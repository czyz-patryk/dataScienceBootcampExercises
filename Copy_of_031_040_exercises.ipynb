{
  "nbformat": 4,
  "nbformat_minor": 0,
  "metadata": {
    "colab": {
      "provenance": [],
      "include_colab_link": true
    },
    "kernelspec": {
      "name": "python3",
      "display_name": "Python 3"
    }
  },
  "cells": [
    {
      "cell_type": "markdown",
      "metadata": {
        "id": "view-in-github",
        "colab_type": "text"
      },
      "source": [
        "<a href=\"https://colab.research.google.com/github/czyz-patryk/dataScienceBootcampExercises/blob/main/Copy_of_031_040_exercises.ipynb\" target=\"_parent\"><img src=\"https://colab.research.google.com/assets/colab-badge.svg\" alt=\"Open In Colab\"/></a>"
      ]
    },
    {
      "cell_type": "markdown",
      "metadata": {
        "id": "WLEgCW5F1hho"
      },
      "source": [
        "## Numpy\n",
        "\n",
        "### Spis treści:\n",
        "* [Import biblioteki](#0)\n",
        "* [Ćwiczenie 31](#1)\n",
        "* [Ćwiczenie 32](#2)\n",
        "* [Ćwiczenie 33](#3)\n",
        "* [Ćwiczenie 34](#4)\n",
        "* [Ćwiczenie 35](#5)\n",
        "* [Ćwiczenie 36](#6)\n",
        "* [Ćwiczenie 37](#7)\n",
        "* [Ćwiczenie 38](#8)\n",
        "* [Ćwiczenie 39](#9)\n",
        "* [Ćwiczenie 40](#10)"
      ]
    },
    {
      "cell_type": "markdown",
      "metadata": {
        "id": "zeLOLmTj1kBM"
      },
      "source": [
        "### <a name='0'></a>Import biblioteki"
      ]
    },
    {
      "cell_type": "code",
      "metadata": {
        "id": "HXMB7SMe1Wnz",
        "colab": {
          "base_uri": "https://localhost:8080/",
          "height": 35
        },
        "outputId": "3b504118-b131-456f-bba8-87e7bdf0786f"
      },
      "source": [
        "import numpy as np\n",
        "\n",
        "np.__version__"
      ],
      "execution_count": 1,
      "outputs": [
        {
          "output_type": "execute_result",
          "data": {
            "text/plain": [
              "'1.21.6'"
            ],
            "application/vnd.google.colaboratory.intrinsic+json": {
              "type": "string"
            }
          },
          "metadata": {},
          "execution_count": 1
        }
      ]
    },
    {
      "cell_type": "markdown",
      "metadata": {
        "id": "cyc70pMe1oCg"
      },
      "source": [
        "### <a name='1'></a> Ćwiczenie 31\n",
        "Wykonaj dwa sortowania podanej poniżej tablicy $A$:\n",
        "* wierszowo (rosnąco)\n",
        "* kolumnowo (rosnąco)\n",
        "\n",
        "\n",
        "```\n",
        "A = np.array([[4.99, 3.49, 9.99],\n",
        "              [1.99, 9.99, 4.99],\n",
        "              [14.99, 2.39, 7.29]])\n",
        "```\n",
        "\n",
        "\n",
        "\n",
        "__Wskazówka:__ Użyj funkcji _np.sort()_."
      ]
    },
    {
      "cell_type": "code",
      "metadata": {
        "id": "ed-_5hm4IvnA",
        "colab": {
          "base_uri": "https://localhost:8080/"
        },
        "outputId": "38168bc2-5b82-43de-cf93-284620900c98"
      },
      "source": [
        "A = np.array([[4.99, 3.49, 9.99],\n",
        "              [1.99, 9.99, 4.99],\n",
        "              [14.99, 2.39, 7.29]])\n",
        "\n",
        "print(np.sort(A))\n",
        "print()\n",
        "print(np.sort(A, axis=0))"
      ],
      "execution_count": 5,
      "outputs": [
        {
          "output_type": "stream",
          "name": "stdout",
          "text": [
            "[[ 3.49  4.99  9.99]\n",
            " [ 1.99  4.99  9.99]\n",
            " [ 2.39  7.29 14.99]]\n",
            "\n",
            "[[ 1.99  2.39  4.99]\n",
            " [ 4.99  3.49  7.29]\n",
            " [14.99  9.99  9.99]]\n"
          ]
        }
      ]
    },
    {
      "cell_type": "markdown",
      "metadata": {
        "id": "J9pY1rtr1sC0"
      },
      "source": [
        "### <a name='2'></a> Ćwiczenie 32\n",
        "Wytnij wszystkie elementy tablicy $A$ o wartości wyższej niż 8.\n",
        "\n",
        "\n",
        "```\n",
        "A = np.array([[4.99, 3.49, 9.99],\n",
        "              [1.99, 9.99, 4.99],\n",
        "              [14.99, 2.39, 7.29]])\n",
        "```\n",
        "\n"
      ]
    },
    {
      "cell_type": "code",
      "metadata": {
        "id": "15swBr0tMExC",
        "colab": {
          "base_uri": "https://localhost:8080/"
        },
        "outputId": "d667428d-79dc-416e-c6ee-c8c03d4d50f2"
      },
      "source": [
        "A = np.array([[4.99, 3.49, 9.99],\n",
        "              [1.99, 9.99, 4.99],\n",
        "              [14.99, 2.39, 7.29]])\n",
        "\n",
        "A[A > 8]"
      ],
      "execution_count": 7,
      "outputs": [
        {
          "output_type": "execute_result",
          "data": {
            "text/plain": [
              "array([ 9.99,  9.99, 14.99])"
            ]
          },
          "metadata": {},
          "execution_count": 7
        }
      ]
    },
    {
      "cell_type": "markdown",
      "metadata": {
        "id": "XQLYT2m11wVG"
      },
      "source": [
        "### <a name='3'></a> Ćwiczenie 33\n",
        "Podana jest poniższa tablica $A$. Zastąp elementy powyżej wartości 10 wartością stałą 10 (obcięcie wartości do 10).\n",
        "\n",
        "\n",
        "```\n",
        "A = np.array([[4.99, 3.49, 9.99],\n",
        "              [1.99, 9.99, 14.99],\n",
        "              [14.99, 2.39, 7.29]])\n",
        "```\n",
        "\n",
        "\n",
        "\n",
        "__Wskazówka:__ Użyj funkcji _np.where()_."
      ]
    },
    {
      "cell_type": "code",
      "metadata": {
        "id": "1korOkbrPXC9",
        "colab": {
          "base_uri": "https://localhost:8080/"
        },
        "outputId": "97a682a1-9296-4ae4-9f6d-bfa3b2b97d35"
      },
      "source": [
        "A = np.array([[4.99, 3.49, 9.99],\n",
        "              [1.99, 9.99, 14.99],\n",
        "              [14.99, 2.39, 7.29]])\n",
        "\n",
        "np.where(A < 10, A, 10)"
      ],
      "execution_count": 12,
      "outputs": [
        {
          "output_type": "execute_result",
          "data": {
            "text/plain": [
              "array([[ 4.99,  3.49,  9.99],\n",
              "       [ 1.99,  9.99, 10.  ],\n",
              "       [10.  ,  2.39,  7.29]])"
            ]
          },
          "metadata": {},
          "execution_count": 12
        }
      ]
    },
    {
      "cell_type": "markdown",
      "metadata": {
        "id": "4xTKSUzg10MK"
      },
      "source": [
        "### <a name='4'></a> Ćwiczenie 34\n",
        "Poniższą dwuwymiarową tablicę $A$ przedstaw w postaci 'wypłaszczonej' jednowymiarowej tablicy.  \n",
        "\n",
        "```\n",
        "A = np.array([[4.99, 3.49, 9.99],\n",
        "              [1.99, 9.99, 14.99],\n",
        "              [14.99, 2.39, 7.29]])\n",
        "```\n",
        "\n",
        "\n",
        "\n",
        "__Oczekiwany wynik:__\n",
        "\n",
        "\n",
        "```\n",
        "array([ 4.99,  3.49,  9.99,  1.99,  9.99, 14.99, 14.99,  2.39,  7.29])\n",
        "```\n",
        "\n",
        "__Wskazówka:__ Użyj funkcji _np.ravel()_.\n",
        "\n",
        "\n"
      ]
    },
    {
      "cell_type": "code",
      "metadata": {
        "id": "COqibgznQtj0",
        "colab": {
          "base_uri": "https://localhost:8080/"
        },
        "outputId": "aa3f105c-86f0-4faa-8474-e6c46394b5f2"
      },
      "source": [
        "A = np.array([[4.99, 3.49, 9.99],\n",
        "              [1.99, 9.99, 14.99],\n",
        "              [14.99, 2.39, 7.29]])\n",
        "\n",
        "A.ravel()"
      ],
      "execution_count": 13,
      "outputs": [
        {
          "output_type": "execute_result",
          "data": {
            "text/plain": [
              "array([ 4.99,  3.49,  9.99,  1.99,  9.99, 14.99, 14.99,  2.39,  7.29])"
            ]
          },
          "metadata": {},
          "execution_count": 13
        }
      ]
    },
    {
      "cell_type": "markdown",
      "metadata": {
        "id": "o3HKIKlP15Ro"
      },
      "source": [
        "### <a name='5'></a> Ćwiczenie 35\n",
        "Zbuduj tablicę o identycznym kształcie i typie danych jak tablica $A$ oraz wypełnij ją stałą wartością 0.0.\n",
        "\n",
        "\n",
        "```\n",
        "A = np.array([[4.99, 3.49, 9.99],\n",
        "              [1.99, 9.99, 14.99],\n",
        "              [14.99, 2.39, 7.29]])\n",
        "```\n",
        "__Oczekiwany wynik:__\n",
        "\n",
        "\n",
        "```\n",
        "array([[0., 0., 0.],\n",
        "       [0., 0., 0.],\n",
        "       [0., 0., 0.]])\n",
        "```\n",
        "\n",
        "\n",
        "\n",
        "\n",
        "\n",
        "__Wskazówka:__ Użyj funkcji _np.zeros_like()_."
      ]
    },
    {
      "cell_type": "code",
      "metadata": {
        "id": "Nb5kpwa3Sh-P",
        "colab": {
          "base_uri": "https://localhost:8080/"
        },
        "outputId": "3b535c10-63ad-4824-df61-b102dbdb7435"
      },
      "source": [
        "A = np.array([[4.99, 3.49, 9.99],\n",
        "              [1.99, 9.99, 14.99],\n",
        "              [14.99, 2.39, 7.29]])\n",
        "\n",
        "np.zeros_like(A)"
      ],
      "execution_count": 15,
      "outputs": [
        {
          "output_type": "execute_result",
          "data": {
            "text/plain": [
              "array([[0., 0., 0.],\n",
              "       [0., 0., 0.],\n",
              "       [0., 0., 0.]])"
            ]
          },
          "metadata": {},
          "execution_count": 15
        }
      ]
    },
    {
      "cell_type": "markdown",
      "metadata": {
        "id": "PunXd_Ey16so"
      },
      "source": [
        "### <a name='6'></a> Ćwiczenie 36\n",
        "\n",
        "Zbuduj tablicę o identycznym kształcie i typie danych jak tablica $A$ oraz wypełnij ją stałą wartością 9.99.\n",
        "\n",
        "\n",
        "```\n",
        "A = np.array([[4.99, 3.49, 9.99],\n",
        "              [1.99, 9.99, 14.99],\n",
        "              [14.99, 2.39, 7.29]])\n",
        "```\n",
        "\n",
        "__Oczekiwany wynik:__\n",
        "\n",
        "\n",
        "```\n",
        "array([[9.99, 9.99, 9.99],\n",
        "       [9.99, 9.99, 9.99],\n",
        "       [9.99, 9.99, 9.99]])\n",
        "```\n",
        "\n",
        "\n",
        "\n",
        "__Wskazówka:__ Użyj funkcji _np.full_like()_."
      ]
    },
    {
      "cell_type": "code",
      "metadata": {
        "id": "XigJhXuPUQ4_",
        "colab": {
          "base_uri": "https://localhost:8080/"
        },
        "outputId": "65b9e156-6789-4cde-f12d-73f3c79c232f"
      },
      "source": [
        "A = np.array([[4.99, 3.49, 9.99],\n",
        "              [1.99, 9.99, 14.99],\n",
        "              [14.99, 2.39, 7.29]])\n",
        "\n",
        "np.full_like(A, 9.99)"
      ],
      "execution_count": 16,
      "outputs": [
        {
          "output_type": "execute_result",
          "data": {
            "text/plain": [
              "array([[9.99, 9.99, 9.99],\n",
              "       [9.99, 9.99, 9.99],\n",
              "       [9.99, 9.99, 9.99]])"
            ]
          },
          "metadata": {},
          "execution_count": 16
        }
      ]
    },
    {
      "cell_type": "markdown",
      "metadata": {
        "id": "hOhqDRz618Tx"
      },
      "source": [
        "### <a name='7'></a> Ćwiczenie 37\n",
        "Zbuduj tablicę dwuwymiarową (macierz kwadratową dolną trójkątną) podnaną poniżej:\n",
        "\n",
        "\n",
        "```\n",
        "array([[1., 0., 0., 0., 0.],\n",
        "       [1., 1., 0., 0., 0.],\n",
        "       [1., 1., 1., 0., 0.],\n",
        "       [1., 1., 1., 1., 0.],\n",
        "       [1., 1., 1., 1., 1.]])\n",
        "```\n",
        "__Wskazówka:__ Użyj funkcji _np.tri()_.\n"
      ]
    },
    {
      "cell_type": "code",
      "metadata": {
        "id": "0T6tBTzeVDN7",
        "colab": {
          "base_uri": "https://localhost:8080/"
        },
        "outputId": "fbb50490-2ba0-4397-bad8-59b99a2721f0"
      },
      "source": [
        "np.tri(5, 5, 0)"
      ],
      "execution_count": 22,
      "outputs": [
        {
          "output_type": "execute_result",
          "data": {
            "text/plain": [
              "array([[1., 0., 0., 0., 0.],\n",
              "       [1., 1., 0., 0., 0.],\n",
              "       [1., 1., 1., 0., 0.],\n",
              "       [1., 1., 1., 1., 0.],\n",
              "       [1., 1., 1., 1., 1.]])"
            ]
          },
          "metadata": {},
          "execution_count": 22
        }
      ]
    },
    {
      "cell_type": "markdown",
      "metadata": {
        "id": "TXUd_4631-gw"
      },
      "source": [
        "### <a name='8'></a> Ćwiczenie 38\n",
        "Stwórz dowolną tablicę 3-wymiarową o kształcie $(2, 3, 4)$."
      ]
    },
    {
      "cell_type": "code",
      "metadata": {
        "id": "NZoI-8PeXudZ",
        "colab": {
          "base_uri": "https://localhost:8080/"
        },
        "outputId": "7be762a8-174d-4c1e-af17-fdfa0f886cfa"
      },
      "source": [
        "A = np.array([[[1, 2, 3, 4], [10, 9, 8, 7], [5, 6, 5, 6]], [[10, 9, 8, 7], [1, 2, 3, 4], [6, 5, 6, 5]]])\n",
        "A.shape"
      ],
      "execution_count": 34,
      "outputs": [
        {
          "output_type": "execute_result",
          "data": {
            "text/plain": [
              "(2, 3, 4)"
            ]
          },
          "metadata": {},
          "execution_count": 34
        }
      ]
    },
    {
      "cell_type": "markdown",
      "metadata": {
        "id": "tgI6xEn-2AQo"
      },
      "source": [
        "### <a name='9'></a> Ćwiczenie 39\n",
        "\n",
        "Wygeneruj dwuwymiarową tablicę o kształcie _(200, 300)_ wypełnioną wartościami losowymi od 0 do 255 włacznie i typie danych _np.uint8_ i przypisz do zmiennej _image_."
      ]
    },
    {
      "cell_type": "code",
      "metadata": {
        "id": "4UXbFDEVZr1J",
        "colab": {
          "base_uri": "https://localhost:8080/"
        },
        "outputId": "43eb610b-ecb8-4d14-ad47-5ce7323fb228"
      },
      "source": [
        "image = np.random.randint(0, 256, (200, 300), np.uint8)\n",
        "image"
      ],
      "execution_count": 61,
      "outputs": [
        {
          "output_type": "execute_result",
          "data": {
            "text/plain": [
              "array([[227,  98, 172, ..., 125, 248, 137],\n",
              "       [153, 182, 200, ...,  20,  81,  52],\n",
              "       [ 72, 149, 201, ..., 239, 231, 131],\n",
              "       ...,\n",
              "       [177, 216, 130, ..., 206, 165, 121],\n",
              "       [ 88, 165, 146, ...,  85,  73, 242],\n",
              "       [ 19, 122, 101, ...,  49, 181,  28]], dtype=uint8)"
            ]
          },
          "metadata": {},
          "execution_count": 61
        }
      ]
    },
    {
      "cell_type": "markdown",
      "metadata": {
        "id": "nA-CIMPfbTcB"
      },
      "source": [
        "Nastepnie uruchom poniższy blok kodu. W rezultacie uzyskasz podgląd na losowo wygenerowany czarno-biały obraz."
      ]
    },
    {
      "cell_type": "code",
      "metadata": {
        "id": "wga9cGARZ-3O",
        "colab": {
          "base_uri": "https://localhost:8080/",
          "height": 217
        },
        "outputId": "5d2c813d-0ff7-427c-8daf-1ef217eb5dc4"
      },
      "source": [
        "from google.colab.patches import cv2_imshow\n",
        "\n",
        "cv2_imshow(image)"
      ],
      "execution_count": 62,
      "outputs": [
        {
          "output_type": "display_data",
          "data": {
            "text/plain": [
              "<PIL.Image.Image image mode=L size=300x200 at 0x7F5959FC24C0>"
            ],
            "image/png": "[encoded data removed]"
          },
          "metadata": {}
        }
      ]
    },
    {
      "cell_type": "markdown",
      "metadata": {
        "id": "wxhpf-uq2B1I"
      },
      "source": [
        "### <a name='10'></a> Ćwiczenie 40\n",
        "Tablicę _image_ z poprzedniego zadania posortuj wzdłuż wiersza rosnąco. Następnie dzięki funkcji _cv2_imshow()_ wyświetl otrzymany obraz."
      ]
    },
    {
      "cell_type": "code",
      "metadata": {
        "id": "YFc0KW6URsuc",
        "colab": {
          "base_uri": "https://localhost:8080/",
          "height": 217
        },
        "outputId": "9335a907-8bb9-4121-fc1a-3c029a3d9134"
      },
      "source": [
        "image.sort(axis=1)\n",
        "\n",
        "cv2_imshow(image)"
      ],
      "execution_count": 63,
      "outputs": [
        {
          "output_type": "display_data",
          "data": {
            "text/plain": [
              "<PIL.Image.Image image mode=L size=300x200 at 0x7F595A001B80>"
            ],
            "image/png": "[encoded data removed]"
          },
          "metadata": {}
        }
      ]
    },
    {
      "cell_type": "markdown",
      "metadata": {
        "id": "RAU2F-3Mcgsr"
      },
      "source": [
        "Tablicę _image_ z poprzedniego zadania posortuj wzdłuż kolumny rosnąco. Następnie dzięki funkcji _cv2_imshow()_ wyświetl otrzymany obraz."
      ]
    },
    {
      "cell_type": "code",
      "metadata": {
        "id": "EAvOxzhRbprl",
        "colab": {
          "base_uri": "https://localhost:8080/",
          "height": 217
        },
        "outputId": "e33b2e89-1fa9-4ac0-be01-c3fe19f60728"
      },
      "source": [
        "image.sort(axis=0)\n",
        "\n",
        "cv2_imshow(image)"
      ],
      "execution_count": 64,
      "outputs": [
        {
          "output_type": "display_data",
          "data": {
            "text/plain": [
              "<PIL.Image.Image image mode=L size=300x200 at 0x7F5968330AC0>"
            ],
            "image/png": "[encoded data removed]"
          },
          "metadata": {}
        }
      ]
    }
  ]
}