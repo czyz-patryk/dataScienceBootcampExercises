{
  "nbformat": 4,
  "nbformat_minor": 0,
  "metadata": {
    "colab": {
      "provenance": [],
      "include_colab_link": true
    },
    "kernelspec": {
      "name": "python3",
      "display_name": "Python 3"
    }
  },
  "cells": [
    {
      "cell_type": "markdown",
      "metadata": {
        "id": "view-in-github",
        "colab_type": "text"
      },
      "source": [
        "<a href=\"https://colab.research.google.com/github/czyz-patryk/dataScienceBootcampExercises/blob/main/Copy_of_091_100_exercises.ipynb\" target=\"_parent\"><img src=\"https://colab.research.google.com/assets/colab-badge.svg\" alt=\"Open In Colab\"/></a>"
      ]
    },
    {
      "cell_type": "markdown",
      "metadata": {
        "id": "WLEgCW5F1hho"
      },
      "source": [
        "## Numpy\n",
        "\n",
        "### Spis treści:\n",
        "* [Import biblioteki](#0)\n",
        "* [Ćwiczenie 91](#1)\n",
        "* [Ćwiczenie 92](#2)\n",
        "* [Ćwiczenie 93](#3)\n",
        "* [Ćwiczenie 94](#4)\n",
        "* [Ćwiczenie 95](#5)\n",
        "* [Ćwiczenie 96](#6)\n",
        "* [Ćwiczenie 97](#7)\n",
        "* [Ćwiczenie 98](#8)\n",
        "* [Ćwiczenie 99](#9)\n",
        "* [Ćwiczenie 100](#10)"
      ]
    },
    {
      "cell_type": "markdown",
      "metadata": {
        "id": "zeLOLmTj1kBM"
      },
      "source": [
        "### <a name='0'></a>Import biblioteki"
      ]
    },
    {
      "cell_type": "code",
      "metadata": {
        "id": "HXMB7SMe1Wnz",
        "colab": {
          "base_uri": "https://localhost:8080/",
          "height": 35
        },
        "outputId": "11919b93-7cea-475e-ea7f-6b0690011197"
      },
      "source": [
        "import numpy as np\n",
        "\n",
        "np.set_printoptions(linewidth=160, suppress=True)\n",
        "np.__version__"
      ],
      "execution_count": 7,
      "outputs": [
        {
          "output_type": "execute_result",
          "data": {
            "text/plain": [
              "'1.21.6'"
            ],
            "application/vnd.google.colaboratory.intrinsic+json": {
              "type": "string"
            }
          },
          "metadata": {},
          "execution_count": 7
        }
      ]
    },
    {
      "cell_type": "markdown",
      "metadata": {
        "id": "cyc70pMe1oCg"
      },
      "source": [
        "### <a name='1'></a> Ćwiczenie 91\n",
        "Podany jest poniższy string _wig_games_raw_ zawierający dane dotyczące indeksu sektorowego WIG.GAMES:\n",
        "\n",
        "```\n",
        "wig_games_raw = \"\"\"Profil\tCzas\tKurs\tZmiana\tZmiana %\tOdn.\tOtw.\tMin.\tMax.\tWolumen\tObrót\tUdział\n",
        "11B (11BIT)\t17 kwi 17:01\t391.00\t+8.00\t(+2.09%)\t383.00\t383.50\t383.00\t394.00\t12 784\t4 994 874\t19.034%\n",
        "CDR (CDPROJEKT)\t17 kwi 17:01\t339.50\t+5.30\t(+1.59%)\t334.20\t338.30\t337.00\t344.20\t233 059\t79 245 368\t39.618%\n",
        "CIG (CIGAMES)\t17 kwi 17:03\t0.742\t-0.012\t(-1.59%)\t0.754\t0.772\t0.730\t0.772\t1 311 078\t971 459\t1.855%\n",
        "PLW (PLAYWAY)\t17 kwi 17:03\t387.50\t+18.00\t(+4.87%)\t369.50\t374.00\t373.00\t388.00\t33 206\t12 661 786\t10.638%\n",
        "TEN (TSGAMES)\t17 kwi 17:02\t349.50\t+22.50\t(+6.88%)\t327.00\t332.00\t330.00\t353.50\t39 793\t13 697 060\t28.855%\"\"\"\n",
        "```\n",
        "\n",
        "Zbuduj z tych danych tablicę numpy i nazwij ją _wig_games_.\n",
        "\n",
        "__Oczekiwany wynik:__\n",
        "\n",
        "\n",
        "```\n",
        "array([['Profil', 'Czas', 'Kurs', 'Zmiana', 'Zmiana%', 'Odn.', 'Otw.', 'Min.', 'Max.', 'Wolumen', 'Obrót', 'Udział'],\n",
        "       ['11B(11BIT)', '17kwi17:01', '391.00', '+8.00', '(+2.09%)', '383.00', '383.50', '383.00', '394.00', '12784', '4994874', '19.034%'],\n",
        "       ['CDR(CDPROJEKT)', '17kwi17:01', '339.50', '+5.30', '(+1.59%)', '334.20', '338.30', '337.00', '344.20', '233059', '79245368', '39.618%'],\n",
        "       ['CIG(CIGAMES)', '17kwi17:03', '0.742', '-0.012', '(-1.59%)', '0.754', '0.772', '0.730', '0.772', '1311078', '971459', '1.855%'],\n",
        "       ['PLW(PLAYWAY)', '17kwi17:03', '387.50', '+18.00', '(+4.87%)', '369.50', '374.00', '373.00', '388.00', '33206', '12661786', '10.638%'],\n",
        "       ['TEN(TSGAMES)', '17kwi17:02', '349.50', '+22.50', '(+6.88%)', '327.00', '332.00', '330.00', '353.50', '39793', '13697060', '28.855%']], dtype='<U14')\n",
        "```\n",
        "\n",
        "\n",
        "\n",
        "\n"
      ]
    },
    {
      "cell_type": "code",
      "metadata": {
        "id": "p0S46C_Lc2GH",
        "colab": {
          "base_uri": "https://localhost:8080/"
        },
        "outputId": "bfedeff4-aa31-4573-899b-6d43d828870d"
      },
      "source": [
        "wig_games_raw = \"\"\"Profil    Czas    Kurs    Zmiana    Zmiana %    Odn.    Otw.    Min.    Max.    Wolumen    Obrót    Udział\n",
        "11B (11BIT)    17 kwi 17:01    391.00    +8.00    (+2.09%)    383.00    383.50    383.00    394.00    12 784    4 994 874    19.034%\n",
        "CDR (CDPROJEKT)    17 kwi 17:01    339.50    +5.30    (+1.59%)    334.20    338.30    337.00    344.20    233 059    79 245 368    39.618%\n",
        "CIG (CIGAMES)    17 kwi 17:03    0.742    -0.012    (-1.59%)    0.754    0.772    0.730    0.772    1 311 078    971 459    1.855%\n",
        "PLW (PLAYWAY)    17 kwi 17:03    387.50    +18.00    (+4.87%)    369.50    374.00    373.00    388.00    33 206    12 661 786    10.638%\n",
        "TEN (TSGAMES)    17 kwi 17:02    349.50    +22.50    (+6.88%)    327.00    332.00    330.00    353.50    39 793    13 697 060    28.855%\"\"\"\n",
        "\n",
        "wig_games = wig_games_raw.splitlines()\n",
        "wig_games = [line.split('    ') for line in wig_games]\n",
        "wig_games = np.array(wig_games)\n",
        "wig_games"
      ],
      "execution_count": 26,
      "outputs": [
        {
          "output_type": "execute_result",
          "data": {
            "text/plain": [
              "array([['Profil', 'Czas', 'Kurs', 'Zmiana', 'Zmiana %', 'Odn.', 'Otw.', 'Min.', 'Max.', 'Wolumen', 'Obrót', 'Udział'],\n",
              "       ['11B (11BIT)', '17 kwi 17:01', '391.00', '+8.00', '(+2.09%)', '383.00', '383.50', '383.00', '394.00', '12 784', '4 994 874', '19.034%'],\n",
              "       ['CDR (CDPROJEKT)', '17 kwi 17:01', '339.50', '+5.30', '(+1.59%)', '334.20', '338.30', '337.00', '344.20', '233 059', '79 245 368', '39.618%'],\n",
              "       ['CIG (CIGAMES)', '17 kwi 17:03', '0.742', '-0.012', '(-1.59%)', '0.754', '0.772', '0.730', '0.772', '1 311 078', '971 459', '1.855%'],\n",
              "       ['PLW (PLAYWAY)', '17 kwi 17:03', '387.50', '+18.00', '(+4.87%)', '369.50', '374.00', '373.00', '388.00', '33 206', '12 661 786', '10.638%'],\n",
              "       ['TEN (TSGAMES)', '17 kwi 17:02', '349.50', '+22.50', '(+6.88%)', '327.00', '332.00', '330.00', '353.50', '39 793', '13 697 060', '28.855%']],\n",
              "      dtype='<U15')"
            ]
          },
          "metadata": {},
          "execution_count": 26
        }
      ]
    },
    {
      "cell_type": "markdown",
      "metadata": {
        "id": "J9pY1rtr1sC0"
      },
      "source": [
        "### <a name='2'></a> Ćwiczenie 92\n",
        "Z tablicy _wig_games_ z poprzedniego ćwiczenia usuń kolumny:\n",
        "* Zmiana\n",
        "* Zmiana %\n",
        "* Odn.\n",
        "* Wolumen\n",
        "\n",
        "__Oczekiwany wynik:__\n",
        "\n",
        "\n",
        "```\n",
        "array([['Profil', 'Czas', 'Kurs', 'Otw.', 'Min.', 'Max.', 'Obrót', 'Udział'],\n",
        "       ['11B (11BIT)', '17 kwi 17:01', '391.00', '383.50', '383.00', '394.00', '4 994 874', '19.034%'],\n",
        "       ['CDR (CDPROJEKT)', '17 kwi 17:01', '339.50', '338.30', '337.00', '344.20', '79 245 368', '39.618%'],\n",
        "       ['CIG (CIGAMES)', '17 kwi 17:03', '0.742', '0.772', '0.730', '0.772', '971 459', '1.855%'],\n",
        "       ['PLW (PLAYWAY)', '17 kwi 17:03', '387.50', '374.00', '373.00', '388.00', '12 661 786', '10.638%'],\n",
        "       ['TEN (TSGAMES)', '17 kwi 17:02', '349.50', '332.00', '330.00', '353.50', '13 697 060', '28.855%']], dtype='<U15')\n",
        "```\n",
        "\n"
      ]
    },
    {
      "cell_type": "code",
      "metadata": {
        "id": "0iG7wIXvdrGn",
        "colab": {
          "base_uri": "https://localhost:8080/"
        },
        "outputId": "7c0c4398-0ebd-445a-e8b1-d7f9dbf47a07"
      },
      "source": [
        "wig_games = np.delete(wig_games, [3, 4, 5, 9], 1)\n",
        "wig_games"
      ],
      "execution_count": 27,
      "outputs": [
        {
          "output_type": "execute_result",
          "data": {
            "text/plain": [
              "array([['Profil', 'Czas', 'Kurs', 'Otw.', 'Min.', 'Max.', 'Obrót', 'Udział'],\n",
              "       ['11B (11BIT)', '17 kwi 17:01', '391.00', '383.50', '383.00', '394.00', '4 994 874', '19.034%'],\n",
              "       ['CDR (CDPROJEKT)', '17 kwi 17:01', '339.50', '338.30', '337.00', '344.20', '79 245 368', '39.618%'],\n",
              "       ['CIG (CIGAMES)', '17 kwi 17:03', '0.742', '0.772', '0.730', '0.772', '971 459', '1.855%'],\n",
              "       ['PLW (PLAYWAY)', '17 kwi 17:03', '387.50', '374.00', '373.00', '388.00', '12 661 786', '10.638%'],\n",
              "       ['TEN (TSGAMES)', '17 kwi 17:02', '349.50', '332.00', '330.00', '353.50', '13 697 060', '28.855%']], dtype='<U15')"
            ]
          },
          "metadata": {},
          "execution_count": 27
        }
      ]
    },
    {
      "cell_type": "markdown",
      "metadata": {
        "id": "XQLYT2m11wVG"
      },
      "source": [
        "### <a name='3'></a> Ćwiczenie 93\n",
        "Tablicę z poprzedniego ćwiczenia _wig_games_ zapisz do pliku _wig_games.csv_."
      ]
    },
    {
      "cell_type": "code",
      "metadata": {
        "id": "ZC0aA_OxeXrv",
        "colab": {
          "base_uri": "https://localhost:8080/",
          "height": 183
        },
        "outputId": "54ed3a50-14ab-4f2e-bdc0-78c7ea2e2d2c"
      },
      "source": [
        "from numpy.core.memmap import dtype\n",
        "wig_games.tofile('wig_games.csv', ',')"
      ],
      "execution_count": 1,
      "outputs": [
        {
          "output_type": "error",
          "ename": "NameError",
          "evalue": "ignored",
          "traceback": [
            "\u001b[0;31m---------------------------------------------------------------------------\u001b[0m",
            "\u001b[0;31mNameError\u001b[0m                                 Traceback (most recent call last)",
            "\u001b[0;32m<ipython-input-1-b82ce455784e>\u001b[0m in \u001b[0;36m<module>\u001b[0;34m\u001b[0m\n\u001b[1;32m      1\u001b[0m \u001b[0;32mfrom\u001b[0m \u001b[0mnumpy\u001b[0m\u001b[0;34m.\u001b[0m\u001b[0mcore\u001b[0m\u001b[0;34m.\u001b[0m\u001b[0mmemmap\u001b[0m \u001b[0;32mimport\u001b[0m \u001b[0mdtype\u001b[0m\u001b[0;34m\u001b[0m\u001b[0;34m\u001b[0m\u001b[0m\n\u001b[0;32m----> 2\u001b[0;31m \u001b[0mwig_games\u001b[0m\u001b[0;34m.\u001b[0m\u001b[0mtofile\u001b[0m\u001b[0;34m(\u001b[0m\u001b[0;34m'wig_games.csv'\u001b[0m\u001b[0;34m,\u001b[0m \u001b[0;34m','\u001b[0m\u001b[0;34m)\u001b[0m\u001b[0;34m\u001b[0m\u001b[0;34m\u001b[0m\u001b[0m\n\u001b[0m",
            "\u001b[0;31mNameError\u001b[0m: name 'wig_games' is not defined"
          ]
        }
      ]
    },
    {
      "cell_type": "markdown",
      "metadata": {
        "id": "--t_pcFpJTU9"
      },
      "source": [
        "Uruchom poniższą komórkę w celu sprawdzenia."
      ]
    },
    {
      "cell_type": "code",
      "metadata": {
        "id": "QBWqXA_ns7CR"
      },
      "source": [
        "!head wig_games.csv"
      ],
      "execution_count": 3,
      "outputs": []
    },
    {
      "cell_type": "markdown",
      "metadata": {
        "id": "4xTKSUzg10MK"
      },
      "source": [
        "### <a name='4'></a> Ćwiczenie 94\n",
        "Wczytaj do zmiennej _wig_games_new_ zawartość pliku _wig_games.csv_."
      ]
    },
    {
      "cell_type": "code",
      "metadata": {
        "id": "YqkrgA6Tgjcx"
      },
      "source": [
        "# tutaj wpisz rozwiązanie"
      ],
      "execution_count": null,
      "outputs": []
    },
    {
      "cell_type": "markdown",
      "metadata": {
        "id": "o3HKIKlP15Ro"
      },
      "source": [
        "### <a name='5'></a> Ćwiczenie 95\n",
        "Podany jest poniższy string _playway_raw_ zawierający notowania spółki Playway z marca 2020. \n",
        "\n",
        "\n",
        "\n",
        "```\n",
        "playway_raw = \"\"\"Data,Otwarcie,Najwyzszy,Najnizszy,Zamkniecie,Wolumen\n",
        "2020-03-02,305,324.5,283.5,310,64081\n",
        "2020-03-03,325.5,340.5,320,340.5,55496\n",
        "2020-03-04,324,340.5,315,330,36152\n",
        "2020-03-05,344,344,310,315,35992\n",
        "2020-03-06,306.5,307,291,305,32539\n",
        "2020-03-09,274,291,250,258,79402\n",
        "2020-03-10,278,284.5,256,264,35700\n",
        "2020-03-11,270,270,238.5,245,60445\n",
        "2020-03-12,218,228,196,197,94031\n",
        "2020-03-13,210,229,198.8,211,100412\n",
        "2020-03-16,205,248,197.8,240.5,50659\n",
        "2020-03-17,245,269,232.5,264,99480\n",
        "2020-03-18,264,280,251,270,70136\n",
        "2020-03-19,267,280,267,279.5,30732\n",
        "2020-03-20,297.5,307,280,280.5,43426\n",
        "2020-03-23,274,289,258,285,37098\n",
        "2020-03-24,305,309,296.5,309,31939\n",
        "2020-03-25,313,330,295,304,46724\n",
        "2020-03-26,300,309,295.5,300,27213\n",
        "2020-03-27,302,306.5,290,296,13466\n",
        "2020-03-30,299,300,287,300,10316\n",
        "2020-03-31,302.5,309,302,306.5,15698\"\"\"\n",
        "```\n",
        "\n",
        "Utwórz tablicę o nazwie _playway_ i przypisz do niej poniższe dane."
      ]
    },
    {
      "cell_type": "code",
      "metadata": {
        "id": "WJNvgoNDlumI",
        "colab": {
          "base_uri": "https://localhost:8080/"
        },
        "outputId": "9f7260d5-de59-4f88-c69d-2327061a747b"
      },
      "source": [
        "playway_raw = \"\"\"Data,Otwarcie,Najwyzszy,Najnizszy,Zamkniecie,Wolumen\n",
        "2020-03-02,305,324.5,283.5,310,64081\n",
        "2020-03-03,325.5,340.5,320,340.5,55496\n",
        "2020-03-04,324,340.5,315,330,36152\n",
        "2020-03-05,344,344,310,315,35992\n",
        "2020-03-06,306.5,307,291,305,32539\n",
        "2020-03-09,274,291,250,258,79402\n",
        "2020-03-10,278,284.5,256,264,35700\n",
        "2020-03-11,270,270,238.5,245,60445\n",
        "2020-03-12,218,228,196,197,94031\n",
        "2020-03-13,210,229,198.8,211,100412\n",
        "2020-03-16,205,248,197.8,240.5,50659\n",
        "2020-03-17,245,269,232.5,264,99480\n",
        "2020-03-18,264,280,251,270,70136\n",
        "2020-03-19,267,280,267,279.5,30732\n",
        "2020-03-20,297.5,307,280,280.5,43426\n",
        "2020-03-23,274,289,258,285,37098\n",
        "2020-03-24,305,309,296.5,309,31939\n",
        "2020-03-25,313,330,295,304,46724\n",
        "2020-03-26,300,309,295.5,300,27213\n",
        "2020-03-27,302,306.5,290,296,13466\n",
        "2020-03-30,299,300,287,300,10316\n",
        "2020-03-31,302.5,309,302,306.5,15698\"\"\"\n",
        "\n",
        "playway = playway_raw.splitlines()\n",
        "playway = [line.split(',') for line in playway]\n",
        "playway = np.array(playway)\n",
        "playway"
      ],
      "execution_count": 121,
      "outputs": [
        {
          "output_type": "execute_result",
          "data": {
            "text/plain": [
              "array([['Data', 'Otwarcie', 'Najwyzszy', 'Najnizszy', 'Zamkniecie', 'Wolumen'],\n",
              "       ['2020-03-02', '305', '324.5', '283.5', '310', '64081'],\n",
              "       ['2020-03-03', '325.5', '340.5', '320', '340.5', '55496'],\n",
              "       ['2020-03-04', '324', '340.5', '315', '330', '36152'],\n",
              "       ['2020-03-05', '344', '344', '310', '315', '35992'],\n",
              "       ['2020-03-06', '306.5', '307', '291', '305', '32539'],\n",
              "       ['2020-03-09', '274', '291', '250', '258', '79402'],\n",
              "       ['2020-03-10', '278', '284.5', '256', '264', '35700'],\n",
              "       ['2020-03-11', '270', '270', '238.5', '245', '60445'],\n",
              "       ['2020-03-12', '218', '228', '196', '197', '94031'],\n",
              "       ['2020-03-13', '210', '229', '198.8', '211', '100412'],\n",
              "       ['2020-03-16', '205', '248', '197.8', '240.5', '50659'],\n",
              "       ['2020-03-17', '245', '269', '232.5', '264', '99480'],\n",
              "       ['2020-03-18', '264', '280', '251', '270', '70136'],\n",
              "       ['2020-03-19', '267', '280', '267', '279.5', '30732'],\n",
              "       ['2020-03-20', '297.5', '307', '280', '280.5', '43426'],\n",
              "       ['2020-03-23', '274', '289', '258', '285', '37098'],\n",
              "       ['2020-03-24', '305', '309', '296.5', '309', '31939'],\n",
              "       ['2020-03-25', '313', '330', '295', '304', '46724'],\n",
              "       ['2020-03-26', '300', '309', '295.5', '300', '27213'],\n",
              "       ['2020-03-27', '302', '306.5', '290', '296', '13466'],\n",
              "       ['2020-03-30', '299', '300', '287', '300', '10316'],\n",
              "       ['2020-03-31', '302.5', '309', '302', '306.5', '15698']], dtype='<U10')"
            ]
          },
          "metadata": {},
          "execution_count": 121
        }
      ]
    },
    {
      "cell_type": "markdown",
      "metadata": {
        "id": "3uGy3BAVnWIe"
      },
      "source": [
        "Usuń kolumnę o nazwie 'Data'. Do zmiennej _playway_values_ przypisz tylko warotści kolumn bez nagłówków. Skonwertuj tak otrzymaną tablicę na typ danych _float_.\n",
        "\n",
        "__Oczekiwany wynik:__\n",
        "\n",
        "\n",
        "\n",
        "```\n",
        "array([[   305. ,    324.5,    283.5,    310. ,  64081. ],\n",
        "       [   325.5,    340.5,    320. ,    340.5,  55496. ],\n",
        "       [   324. ,    340.5,    315. ,    330. ,  36152. ],\n",
        "       [   344. ,    344. ,    310. ,    315. ,  35992. ],\n",
        "       [   306.5,    307. ,    291. ,    305. ,  32539. ],\n",
        "       [   274. ,    291. ,    250. ,    258. ,  79402. ],\n",
        "       [   278. ,    284.5,    256. ,    264. ,  35700. ],\n",
        "       [   270. ,    270. ,    238.5,    245. ,  60445. ],\n",
        "       [   218. ,    228. ,    196. ,    197. ,  94031. ],\n",
        "       [   210. ,    229. ,    198.8,    211. , 100412. ],\n",
        "       [   205. ,    248. ,    197.8,    240.5,  50659. ],\n",
        "       [   245. ,    269. ,    232.5,    264. ,  99480. ],\n",
        "       [   264. ,    280. ,    251. ,    270. ,  70136. ],\n",
        "       [   267. ,    280. ,    267. ,    279.5,  30732. ],\n",
        "       [   297.5,    307. ,    280. ,    280.5,  43426. ],\n",
        "       [   274. ,    289. ,    258. ,    285. ,  37098. ],\n",
        "       [   305. ,    309. ,    296.5,    309. ,  31939. ],\n",
        "       [   313. ,    330. ,    295. ,    304. ,  46724. ],\n",
        "       [   300. ,    309. ,    295.5,    300. ,  27213. ],\n",
        "       [   302. ,    306.5,    290. ,    296. ,  13466. ],\n",
        "       [   299. ,    300. ,    287. ,    300. ,  10316. ],\n",
        "       [   302.5,    309. ,    302. ,    306.5,  15698. ]])\n",
        "```\n",
        "\n"
      ]
    },
    {
      "cell_type": "code",
      "metadata": {
        "id": "h2CM34hNl8Or",
        "colab": {
          "base_uri": "https://localhost:8080/"
        },
        "outputId": "a715ced7-e70e-4458-a2c5-0d8cc5b2f050"
      },
      "source": [
        "playway = np.delete(playway, [0], 1)\n",
        "playway\n",
        "playway_values = np.delete(playway, [0], 0)\n",
        "playway_values"
      ],
      "execution_count": 122,
      "outputs": [
        {
          "output_type": "execute_result",
          "data": {
            "text/plain": [
              "array([['305', '324.5', '283.5', '310', '64081'],\n",
              "       ['325.5', '340.5', '320', '340.5', '55496'],\n",
              "       ['324', '340.5', '315', '330', '36152'],\n",
              "       ['344', '344', '310', '315', '35992'],\n",
              "       ['306.5', '307', '291', '305', '32539'],\n",
              "       ['274', '291', '250', '258', '79402'],\n",
              "       ['278', '284.5', '256', '264', '35700'],\n",
              "       ['270', '270', '238.5', '245', '60445'],\n",
              "       ['218', '228', '196', '197', '94031'],\n",
              "       ['210', '229', '198.8', '211', '100412'],\n",
              "       ['205', '248', '197.8', '240.5', '50659'],\n",
              "       ['245', '269', '232.5', '264', '99480'],\n",
              "       ['264', '280', '251', '270', '70136'],\n",
              "       ['267', '280', '267', '279.5', '30732'],\n",
              "       ['297.5', '307', '280', '280.5', '43426'],\n",
              "       ['274', '289', '258', '285', '37098'],\n",
              "       ['305', '309', '296.5', '309', '31939'],\n",
              "       ['313', '330', '295', '304', '46724'],\n",
              "       ['300', '309', '295.5', '300', '27213'],\n",
              "       ['302', '306.5', '290', '296', '13466'],\n",
              "       ['299', '300', '287', '300', '10316'],\n",
              "       ['302.5', '309', '302', '306.5', '15698']], dtype='<U10')"
            ]
          },
          "metadata": {},
          "execution_count": 122
        }
      ]
    },
    {
      "cell_type": "code",
      "source": [
        "playway_values = playway_values.astype('float')"
      ],
      "metadata": {
        "id": "BQx6A6oRLcDl"
      },
      "execution_count": 123,
      "outputs": []
    },
    {
      "cell_type": "markdown",
      "metadata": {
        "id": "PunXd_Ey16so"
      },
      "source": [
        "### <a name='6'></a> Ćwiczenie 96\n",
        "Dla tablicy _playway_values_ z poprzedniego ćwiczenia policz wartość średnią dla każdej kolumny. Wynik zaokrąglij do 2 miejsca po przecinku."
      ]
    },
    {
      "cell_type": "code",
      "metadata": {
        "id": "4R_zihb-mNQI",
        "colab": {
          "base_uri": "https://localhost:8080/"
        },
        "outputId": "f76f18b9-28de-44ad-de26-b60ccd070e8e"
      },
      "source": [
        "np.round(np.mean(playway_values, 0), 2)"
      ],
      "execution_count": 124,
      "outputs": [
        {
          "output_type": "execute_result",
          "data": {
            "text/plain": [
              "array([  283.14,   295.25,   268.69,   282.3 , 48688.05])"
            ]
          },
          "metadata": {},
          "execution_count": 124
        }
      ]
    },
    {
      "cell_type": "markdown",
      "metadata": {
        "id": "vYku8sDioVv0"
      },
      "source": [
        "Dla tablicy _playway_values_ z poprzedniego ćwiczenia policz wartość minimalną dla każdej kolumny. Wynik zaokrąglij do 2 miejsca po przecinku."
      ]
    },
    {
      "cell_type": "code",
      "metadata": {
        "id": "6tXybjFPoYuH",
        "colab": {
          "base_uri": "https://localhost:8080/"
        },
        "outputId": "364201f9-4d91-4b6a-83be-d0bae77f01b2"
      },
      "source": [
        "min_value = np.round(np.min(playway_values, 0), 2)\n",
        "min_value"
      ],
      "execution_count": 125,
      "outputs": [
        {
          "output_type": "execute_result",
          "data": {
            "text/plain": [
              "array([  205.,   228.,   196.,   197., 10316.])"
            ]
          },
          "metadata": {},
          "execution_count": 125
        }
      ]
    },
    {
      "cell_type": "markdown",
      "metadata": {
        "id": "R8h54smpogS-"
      },
      "source": [
        "Dla tablicy _playway_values_ z poprzedniego ćwiczenia policz wartość maksymalną dla każdej kolumny. Wynik zaokrąglij do 2 miejsca po przecinku."
      ]
    },
    {
      "cell_type": "code",
      "metadata": {
        "id": "fSPfLYUpoi-9",
        "colab": {
          "base_uri": "https://localhost:8080/"
        },
        "outputId": "9bedc9c0-edef-488d-ca8c-0cfbf9b5bf11"
      },
      "source": [
        "max_value = np.round(np.max(playway_values, 0), 2)\n",
        "max_value"
      ],
      "execution_count": 126,
      "outputs": [
        {
          "output_type": "execute_result",
          "data": {
            "text/plain": [
              "array([   344. ,    344. ,    320. ,    340.5, 100412. ])"
            ]
          },
          "metadata": {},
          "execution_count": 126
        }
      ]
    },
    {
      "cell_type": "markdown",
      "metadata": {
        "id": "kBHvcXSPoyt7"
      },
      "source": [
        "Policz różnicę pomiędzy wartością maksymalną i minimalną dla każdej kolumny."
      ]
    },
    {
      "cell_type": "code",
      "metadata": {
        "id": "Gk6HsA-rotzG",
        "colab": {
          "base_uri": "https://localhost:8080/"
        },
        "outputId": "f165d736-6e18-4b01-9a01-92389adb806c"
      },
      "source": [
        "max_value - min_value"
      ],
      "execution_count": 127,
      "outputs": [
        {
          "output_type": "execute_result",
          "data": {
            "text/plain": [
              "array([  139. ,   116. ,   124. ,   143.5, 90096. ])"
            ]
          },
          "metadata": {},
          "execution_count": 127
        }
      ]
    },
    {
      "cell_type": "markdown",
      "metadata": {
        "id": "hOhqDRz618Tx"
      },
      "source": [
        "### <a name='7'></a> Ćwiczenie 97\n",
        "Wykorzystując tablicę _playway_values_ oblicz nową kolumnę będącą różnicą ceny najwyższej i najniższej.\n",
        "\n",
        "Kroki pomocnicze:\n",
        "1. do zmiennej _max_min_diff_ przypisz obliczoną różnicę\n",
        "2. dodaj obliczoną kolumnę (zmienna _max_min_diff_) do tablicy _playway_values_ na końcu.\n",
        "\n",
        "__Oczekiwany wynik:__\n",
        "\n",
        "\n",
        "```\n",
        "array([[   305. ,    324.5,    283.5,    310. ,  64081. ,     41. ],\n",
        "       [   325.5,    340.5,    320. ,    340.5,  55496. ,     20.5],\n",
        "       [   324. ,    340.5,    315. ,    330. ,  36152. ,     25.5],\n",
        "       [   344. ,    344. ,    310. ,    315. ,  35992. ,     34. ],\n",
        "       [   306.5,    307. ,    291. ,    305. ,  32539. ,     16. ],\n",
        "       [   274. ,    291. ,    250. ,    258. ,  79402. ,     41. ],\n",
        "       [   278. ,    284.5,    256. ,    264. ,  35700. ,     28.5],\n",
        "       [   270. ,    270. ,    238.5,    245. ,  60445. ,     31.5],\n",
        "       [   218. ,    228. ,    196. ,    197. ,  94031. ,     32. ],\n",
        "       [   210. ,    229. ,    198.8,    211. , 100412. ,     30.2],\n",
        "       [   205. ,    248. ,    197.8,    240.5,  50659. ,     50.2],\n",
        "       [   245. ,    269. ,    232.5,    264. ,  99480. ,     36.5],\n",
        "       [   264. ,    280. ,    251. ,    270. ,  70136. ,     29. ],\n",
        "       [   267. ,    280. ,    267. ,    279.5,  30732. ,     13. ],\n",
        "       [   297.5,    307. ,    280. ,    280.5,  43426. ,     27. ],\n",
        "       [   274. ,    289. ,    258. ,    285. ,  37098. ,     31. ],\n",
        "       [   305. ,    309. ,    296.5,    309. ,  31939. ,     12.5],\n",
        "       [   313. ,    330. ,    295. ,    304. ,  46724. ,     35. ],\n",
        "       [   300. ,    309. ,    295.5,    300. ,  27213. ,     13.5],\n",
        "       [   302. ,    306.5,    290. ,    296. ,  13466. ,     16.5],\n",
        "       [   299. ,    300. ,    287. ,    300. ,  10316. ,     13. ],\n",
        "       [   302.5,    309. ,    302. ,    306.5,  15698. ,      7. ]])\n",
        "```\n",
        "\n"
      ]
    },
    {
      "cell_type": "code",
      "metadata": {
        "id": "Uo-LawS_pbEx"
      },
      "source": [
        "max_min_diff = playway_values[:, 1] - playway_values[:, 2]\n",
        "max_min_diff = np.array(max_min_diff).reshape(-1, 1)\n",
        "\n",
        "playway_values = np.concatenate([playway_values, max_min_diff], 1)"
      ],
      "execution_count": 128,
      "outputs": []
    },
    {
      "cell_type": "markdown",
      "metadata": {
        "id": "TXUd_4631-gw"
      },
      "source": [
        "### <a name='8'></a> Ćwiczenie 98\n",
        "Z tablicy _playway_values_ wytnij wiersze, dla których cena zamknięcia wynosi powyżej 300.00 PLN."
      ]
    },
    {
      "cell_type": "code",
      "metadata": {
        "id": "rwuMJLk1rS01",
        "colab": {
          "base_uri": "https://localhost:8080/"
        },
        "outputId": "d69cd04a-dfc5-404b-dc32-d0ddb71bcdfc"
      },
      "source": [
        "playway_values[playway_values[:, 3] > 300]"
      ],
      "execution_count": 129,
      "outputs": [
        {
          "output_type": "execute_result",
          "data": {
            "text/plain": [
              "array([[  305. ,   324.5,   283.5,   310. , 64081. ,    41. ],\n",
              "       [  325.5,   340.5,   320. ,   340.5, 55496. ,    20.5],\n",
              "       [  324. ,   340.5,   315. ,   330. , 36152. ,    25.5],\n",
              "       [  344. ,   344. ,   310. ,   315. , 35992. ,    34. ],\n",
              "       [  306.5,   307. ,   291. ,   305. , 32539. ,    16. ],\n",
              "       [  305. ,   309. ,   296.5,   309. , 31939. ,    12.5],\n",
              "       [  313. ,   330. ,   295. ,   304. , 46724. ,    35. ],\n",
              "       [  302.5,   309. ,   302. ,   306.5, 15698. ,     7. ]])"
            ]
          },
          "metadata": {},
          "execution_count": 129
        }
      ]
    },
    {
      "cell_type": "markdown",
      "metadata": {
        "id": "tgI6xEn-2AQo"
      },
      "source": [
        "### <a name='9'></a> Ćwiczenie 99\n",
        "Z tablicy _playway_values_ wytnij 10 pierwszych wierszy z najwyższą wartością wolumenu posortowane malejąco."
      ]
    },
    {
      "cell_type": "code",
      "metadata": {
        "id": "BNaPPvhssbmW",
        "colab": {
          "base_uri": "https://localhost:8080/"
        },
        "outputId": "d7cb1ec8-9c08-4671-8364-a8198fd974f7"
      },
      "source": [
        "np.flip(playway_values[np.argsort(playway_values[:, 3])])[:10, :]"
      ],
      "execution_count": 130,
      "outputs": [
        {
          "output_type": "execute_result",
          "data": {
            "text/plain": [
              "array([[   20.5, 55496. ,   340.5,   320. ,   340.5,   325.5],\n",
              "       [   25.5, 36152. ,   330. ,   315. ,   340.5,   324. ],\n",
              "       [   34. , 35992. ,   315. ,   310. ,   344. ,   344. ],\n",
              "       [   41. , 64081. ,   310. ,   283.5,   324.5,   305. ],\n",
              "       [   12.5, 31939. ,   309. ,   296.5,   309. ,   305. ],\n",
              "       [    7. , 15698. ,   306.5,   302. ,   309. ,   302.5],\n",
              "       [   16. , 32539. ,   305. ,   291. ,   307. ,   306.5],\n",
              "       [   35. , 46724. ,   304. ,   295. ,   330. ,   313. ],\n",
              "       [   13. , 10316. ,   300. ,   287. ,   300. ,   299. ],\n",
              "       [   13.5, 27213. ,   300. ,   295.5,   309. ,   300. ]])"
            ]
          },
          "metadata": {},
          "execution_count": 130
        }
      ]
    },
    {
      "cell_type": "markdown",
      "metadata": {
        "id": "wxhpf-uq2B1I"
      },
      "source": [
        "### <a name='10'></a> Ćwiczenie 100\n",
        "Do tablicy _playway_values_ dodaj 7 kolumnę, która będzie zwracać 1 w przypadku, gdy cena zamknięcia jest wyższa niż cena otwarcia oraz 0 przeciwnie.\n",
        "\n",
        "__Oczekiwany wynik:__\n",
        "\n",
        "\n",
        "```\n",
        "array([[   305. ,    324.5,    283.5,    310. ,  64081. ,     41. ,      1. ],\n",
        "       [   325.5,    340.5,    320. ,    340.5,  55496. ,     20.5,      1. ],\n",
        "       [   324. ,    340.5,    315. ,    330. ,  36152. ,     25.5,      1. ],\n",
        "       [   344. ,    344. ,    310. ,    315. ,  35992. ,     34. ,      0. ],\n",
        "       [   306.5,    307. ,    291. ,    305. ,  32539. ,     16. ,      0. ],\n",
        "       [   274. ,    291. ,    250. ,    258. ,  79402. ,     41. ,      0. ],\n",
        "       [   278. ,    284.5,    256. ,    264. ,  35700. ,     28.5,      0. ],\n",
        "       [   270. ,    270. ,    238.5,    245. ,  60445. ,     31.5,      0. ],\n",
        "       [   218. ,    228. ,    196. ,    197. ,  94031. ,     32. ,      0. ],\n",
        "       [   210. ,    229. ,    198.8,    211. , 100412. ,     30.2,      1. ],\n",
        "       [   205. ,    248. ,    197.8,    240.5,  50659. ,     50.2,      1. ],\n",
        "       [   245. ,    269. ,    232.5,    264. ,  99480. ,     36.5,      1. ],\n",
        "       [   264. ,    280. ,    251. ,    270. ,  70136. ,     29. ,      1. ],\n",
        "       [   267. ,    280. ,    267. ,    279.5,  30732. ,     13. ,      1. ],\n",
        "       [   297.5,    307. ,    280. ,    280.5,  43426. ,     27. ,      0. ],\n",
        "       [   274. ,    289. ,    258. ,    285. ,  37098. ,     31. ,      1. ],\n",
        "       [   305. ,    309. ,    296.5,    309. ,  31939. ,     12.5,      1. ],\n",
        "       [   313. ,    330. ,    295. ,    304. ,  46724. ,     35. ,      0. ],\n",
        "       [   300. ,    309. ,    295.5,    300. ,  27213. ,     13.5,      0. ],\n",
        "       [   302. ,    306.5,    290. ,    296. ,  13466. ,     16.5,      0. ],\n",
        "       [   299. ,    300. ,    287. ,    300. ,  10316. ,     13. ,      1. ],\n",
        "       [   302.5,    309. ,    302. ,    306.5,  15698. ,      7. ,      1. ]])\n",
        "```\n",
        "\n"
      ]
    },
    {
      "cell_type": "code",
      "metadata": {
        "id": "Bg9OBn0Lt6Mu",
        "colab": {
          "base_uri": "https://localhost:8080/"
        },
        "outputId": "a373d05a-f375-42ca-8052-4ab17562cd78"
      },
      "source": [
        "last_column = playway_values[:, 3] > playway_values[:, 0]\n",
        "last_column = last_column.astype('int')\n",
        "\n",
        "last_column = np.array(last_column).reshape(-1, 1)\n",
        "\n",
        "np.concatenate([playway_values, last_column], 1)"
      ],
      "execution_count": 131,
      "outputs": [
        {
          "output_type": "execute_result",
          "data": {
            "text/plain": [
              "array([[   305. ,    324.5,    283.5,    310. ,  64081. ,     41. ,      1. ],\n",
              "       [   325.5,    340.5,    320. ,    340.5,  55496. ,     20.5,      1. ],\n",
              "       [   324. ,    340.5,    315. ,    330. ,  36152. ,     25.5,      1. ],\n",
              "       [   344. ,    344. ,    310. ,    315. ,  35992. ,     34. ,      0. ],\n",
              "       [   306.5,    307. ,    291. ,    305. ,  32539. ,     16. ,      0. ],\n",
              "       [   274. ,    291. ,    250. ,    258. ,  79402. ,     41. ,      0. ],\n",
              "       [   278. ,    284.5,    256. ,    264. ,  35700. ,     28.5,      0. ],\n",
              "       [   270. ,    270. ,    238.5,    245. ,  60445. ,     31.5,      0. ],\n",
              "       [   218. ,    228. ,    196. ,    197. ,  94031. ,     32. ,      0. ],\n",
              "       [   210. ,    229. ,    198.8,    211. , 100412. ,     30.2,      1. ],\n",
              "       [   205. ,    248. ,    197.8,    240.5,  50659. ,     50.2,      1. ],\n",
              "       [   245. ,    269. ,    232.5,    264. ,  99480. ,     36.5,      1. ],\n",
              "       [   264. ,    280. ,    251. ,    270. ,  70136. ,     29. ,      1. ],\n",
              "       [   267. ,    280. ,    267. ,    279.5,  30732. ,     13. ,      1. ],\n",
              "       [   297.5,    307. ,    280. ,    280.5,  43426. ,     27. ,      0. ],\n",
              "       [   274. ,    289. ,    258. ,    285. ,  37098. ,     31. ,      1. ],\n",
              "       [   305. ,    309. ,    296.5,    309. ,  31939. ,     12.5,      1. ],\n",
              "       [   313. ,    330. ,    295. ,    304. ,  46724. ,     35. ,      0. ],\n",
              "       [   300. ,    309. ,    295.5,    300. ,  27213. ,     13.5,      0. ],\n",
              "       [   302. ,    306.5,    290. ,    296. ,  13466. ,     16.5,      0. ],\n",
              "       [   299. ,    300. ,    287. ,    300. ,  10316. ,     13. ,      1. ],\n",
              "       [   302.5,    309. ,    302. ,    306.5,  15698. ,      7. ,      1. ]])"
            ]
          },
          "metadata": {},
          "execution_count": 131
        }
      ]
    },
    {
      "cell_type": "code",
      "source": [],
      "metadata": {
        "id": "cUEwwFOsVrmM"
      },
      "execution_count": null,
      "outputs": []
    }
  ]
}